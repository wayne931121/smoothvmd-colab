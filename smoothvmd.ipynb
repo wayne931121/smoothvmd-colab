{
  "nbformat": 4,
  "nbformat_minor": 0,
  "metadata": {
    "colab": {
      "provenance": []
    },
    "kernelspec": {
      "name": "python3",
      "display_name": "Python 3"
    },
    "language_info": {
      "name": "python"
    }
  },
  "cells": [
    {
      "cell_type": "code",
      "execution_count": 1,
      "metadata": {
        "colab": {
          "base_uri": "https://localhost:8080/"
        },
        "id": "7fDspMGbMmuN",
        "outputId": "124dcfcd-32b2-4e29-f6ea-4c969d80bd42"
      },
      "outputs": [
        {
          "output_type": "stream",
          "name": "stdout",
          "text": [
            "/content\n",
            "Cloning into 'smoothvmd'...\n",
            "remote: Enumerating objects: 133, done.\u001b[K\n",
            "remote: Counting objects: 100% (7/7), done.\u001b[K\n",
            "remote: Compressing objects: 100% (6/6), done.\u001b[K\n",
            "Receiving objects: 100% (133/133), 42.09 KiB | 1.91 MiB/s, done.\n",
            "remote: Total 133 (delta 1), reused 4 (delta 1), pack-reused 126 (from 1)\u001b[K\n",
            "Resolving deltas: 100% (75/75), done.\n"
          ]
        }
      ],
      "source": [
        "%cd /content\n",
        "!git clone https://github.com/errno-mmd/smoothvmd.git"
      ]
    },
    {
      "cell_type": "code",
      "source": [
        "!apt-get install libeigen3-dev"
      ],
      "metadata": {
        "colab": {
          "base_uri": "https://localhost:8080/"
        },
        "id": "Kf42WmUNetvz",
        "outputId": "e448b607-5b29-4dbd-f346-b7bca418a521"
      },
      "execution_count": 2,
      "outputs": [
        {
          "output_type": "stream",
          "name": "stdout",
          "text": [
            "Reading package lists... Done\n",
            "Building dependency tree... Done\n",
            "Reading state information... Done\n",
            "Suggested packages:\n",
            "  libeigen3-doc libmpfrc++-dev\n",
            "The following NEW packages will be installed:\n",
            "  libeigen3-dev\n",
            "0 upgraded, 1 newly installed, 0 to remove and 38 not upgraded.\n",
            "Need to get 1,056 kB of archives.\n",
            "After this operation, 9,081 kB of additional disk space will be used.\n",
            "Get:1 http://archive.ubuntu.com/ubuntu jammy/universe amd64 libeigen3-dev all 3.4.0-2ubuntu2 [1,056 kB]\n",
            "Fetched 1,056 kB in 1s (997 kB/s)\n",
            "Selecting previously unselected package libeigen3-dev.\n",
            "(Reading database ... 126675 files and directories currently installed.)\n",
            "Preparing to unpack .../libeigen3-dev_3.4.0-2ubuntu2_all.deb ...\n",
            "Unpacking libeigen3-dev (3.4.0-2ubuntu2) ...\n",
            "Setting up libeigen3-dev (3.4.0-2ubuntu2) ...\n"
          ]
        }
      ]
    },
    {
      "cell_type": "code",
      "source": [
        "!apt-get install libgtest-dev"
      ],
      "metadata": {
        "colab": {
          "base_uri": "https://localhost:8080/"
        },
        "id": "1frNIPbzkuJ9",
        "outputId": "eb2514a6-b578-413c-b800-0db103b4fa20"
      },
      "execution_count": 3,
      "outputs": [
        {
          "output_type": "stream",
          "name": "stdout",
          "text": [
            "Reading package lists... Done\n",
            "Building dependency tree... Done\n",
            "Reading state information... Done\n",
            "The following additional packages will be installed:\n",
            "  googletest\n",
            "The following NEW packages will be installed:\n",
            "  googletest libgtest-dev\n",
            "0 upgraded, 2 newly installed, 0 to remove and 38 not upgraded.\n",
            "Need to get 792 kB of archives.\n",
            "After this operation, 5,156 kB of additional disk space will be used.\n",
            "Get:1 http://archive.ubuntu.com/ubuntu jammy/universe amd64 googletest all 1.11.0-3 [541 kB]\n",
            "Get:2 http://archive.ubuntu.com/ubuntu jammy/universe amd64 libgtest-dev amd64 1.11.0-3 [250 kB]\n",
            "Fetched 792 kB in 1s (746 kB/s)\n",
            "Selecting previously unselected package googletest.\n",
            "(Reading database ... 127296 files and directories currently installed.)\n",
            "Preparing to unpack .../googletest_1.11.0-3_all.deb ...\n",
            "Unpacking googletest (1.11.0-3) ...\n",
            "Selecting previously unselected package libgtest-dev:amd64.\n",
            "Preparing to unpack .../libgtest-dev_1.11.0-3_amd64.deb ...\n",
            "Unpacking libgtest-dev:amd64 (1.11.0-3) ...\n",
            "Setting up googletest (1.11.0-3) ...\n",
            "Setting up libgtest-dev:amd64 (1.11.0-3) ...\n"
          ]
        }
      ]
    },
    {
      "cell_type": "code",
      "source": [
        "%cd /content/smoothvmd\n",
        "!rm -rf build\n",
        "!mkdir build\n",
        "%cd build\n",
        "!cmake ../"
      ],
      "metadata": {
        "colab": {
          "base_uri": "https://localhost:8080/"
        },
        "id": "jAqyzG9ehIF9",
        "outputId": "77bc9d5d-cb31-4dc3-e515-589d23e5639a"
      },
      "execution_count": 4,
      "outputs": [
        {
          "output_type": "stream",
          "name": "stdout",
          "text": [
            "/content/smoothvmd\n",
            "/content/smoothvmd/build\n",
            "\u001b[33mCMake Warning (dev) in CMakeLists.txt:\n",
            "  No project() command is present.  The top-level CMakeLists.txt file must\n",
            "  contain a literal, direct call to the project() command.  Add a line of\n",
            "  code such as\n",
            "\n",
            "    project(ProjectName)\n",
            "\n",
            "  near the top of the file, but after cmake_minimum_required().\n",
            "\n",
            "  CMake is pretending there is a \"project(Project)\" command on the first\n",
            "  line.\n",
            "This warning is for project developers.  Use -Wno-dev to suppress it.\n",
            "\u001b[0m\n",
            "\u001b[33mCMake Warning (dev) in CMakeLists.txt:\n",
            "  cmake_minimum_required() should be called prior to this top-level project()\n",
            "  call.  Please see the cmake-commands(7) manual for usage documentation of\n",
            "  both commands.\n",
            "This warning is for project developers.  Use -Wno-dev to suppress it.\n",
            "\u001b[0m\n",
            "-- The C compiler identification is GNU 11.4.0\n",
            "-- The CXX compiler identification is GNU 11.4.0\n",
            "-- Detecting C compiler ABI info\n",
            "-- Detecting C compiler ABI info - done\n",
            "-- Check for working C compiler: /usr/bin/cc - skipped\n",
            "-- Detecting C compile features\n",
            "-- Detecting C compile features - done\n",
            "-- Detecting CXX compiler ABI info\n",
            "-- Detecting CXX compiler ABI info - done\n",
            "-- Check for working CXX compiler: /usr/bin/c++ - skipped\n",
            "-- Detecting CXX compile features\n",
            "-- Detecting CXX compile features - done\n",
            "\u001b[0mCMake Deprecation Warning at CMakeLists.txt:1 (cmake_minimum_required):\n",
            "  Compatibility with CMake < 3.10 will be removed from a future version of\n",
            "  CMake.\n",
            "\n",
            "  Update the VERSION argument <min> value.  Or, use the <min>...<max> syntax\n",
            "  to tell CMake that the project requires at least <min> but has been updated\n",
            "  to work with policies introduced by <max> or earlier.\n",
            "\n",
            "\u001b[0m\n",
            "\u001b[33mCMake Warning (dev) at CMakeLists.txt:3 (find_package):\n",
            "  Policy CMP0167 is not set: The FindBoost module is removed.  Run \"cmake\n",
            "  --help-policy CMP0167\" for policy details.  Use the cmake_policy command to\n",
            "  set the policy and suppress this warning.\n",
            "\n",
            "This warning is for project developers.  Use -Wno-dev to suppress it.\n",
            "\u001b[0m\n",
            "-- Found Boost: /usr/lib/x86_64-linux-gnu/cmake/Boost-1.74.0/BoostConfig.cmake (found version \"1.74.0\") found components: filesystem system program_options\n",
            "-- Found ICU: /usr/include (found version \"70.1\") found components: i18n uc\n",
            "-- Found PkgConfig: /usr/bin/pkg-config (found version \"1.8.0\")\n",
            "-- Checking for module 'eigen3'\n",
            "--   Found eigen3, version 3.4.0\n",
            "\u001b[0mCMake Deprecation Warning at UnitTest/CMakeLists.txt:1 (cmake_minimum_required):\n",
            "  Compatibility with CMake < 3.10 will be removed from a future version of\n",
            "  CMake.\n",
            "\n",
            "  Update the VERSION argument <min> value.  Or, use the <min>...<max> syntax\n",
            "  to tell CMake that the project requires at least <min> but has been updated\n",
            "  to work with policies introduced by <max> or earlier.\n",
            "\n",
            "\u001b[0m\n",
            "-- Found ICU: /usr/include (found version \"70.1\") found components: i18n uc\n",
            "-- Configuring done (1.3s)\n",
            "-- Generating done (0.0s)\n",
            "-- Build files have been written to: /content/smoothvmd/build\n"
          ]
        }
      ]
    },
    {
      "cell_type": "code",
      "source": [
        "%cd /content/smoothvmd/build\n",
        "!make"
      ],
      "metadata": {
        "colab": {
          "base_uri": "https://localhost:8080/"
        },
        "id": "dTQm8NXCQUCj",
        "outputId": "88a4eafd-776b-41a9-9c66-e525b79b8a75"
      },
      "execution_count": 5,
      "outputs": [
        {
          "output_type": "stream",
          "name": "stdout",
          "text": [
            "/content/smoothvmd/build\n",
            "[  5%] \u001b[32mBuilding CXX object CMakeFiles/smoothvmd.dir/smoothvmd_main.cc.o\u001b[0m\n",
            "[ 10%] \u001b[32mBuilding CXX object CMakeFiles/smoothvmd.dir/smooth_reduce.cc.o\u001b[0m\n",
            "[ 15%] \u001b[32mBuilding CXX object CMakeFiles/smoothvmd.dir/smoothvmd.cc.o\u001b[0m\n",
            "[ 20%] \u001b[32mBuilding CXX object CMakeFiles/smoothvmd.dir/reducevmd.cc.o\u001b[0m\n",
            "[ 25%] \u001b[32mBuilding CXX object CMakeFiles/smoothvmd.dir/MMDFileIOUtil.cc.o\u001b[0m\n",
            "[ 30%] \u001b[32mBuilding CXX object CMakeFiles/smoothvmd.dir/VMD.cc.o\u001b[0m\n",
            "[ 35%] \u001b[32mBuilding CXX object CMakeFiles/smoothvmd.dir/interpolate.cc.o\u001b[0m\n",
            "[ 40%] \u001b[32mBuilding CXX object CMakeFiles/smoothvmd.dir/fpschanger.cc.o\u001b[0m\n",
            "[ 45%] \u001b[32m\u001b[1mLinking CXX executable smoothvmd\u001b[0m\n",
            "[ 45%] Built target smoothvmd\n",
            "[ 50%] \u001b[32mBuilding CXX object UnitTest/CMakeFiles/InterpolationTest.dir/InterpolationTest.cc.o\u001b[0m\n",
            "[ 55%] \u001b[32mBuilding CXX object UnitTest/CMakeFiles/InterpolationTest.dir/__/interpolate.cc.o\u001b[0m\n",
            "[ 60%] \u001b[32mBuilding CXX object UnitTest/CMakeFiles/InterpolationTest.dir/__/MMDFileIOUtil.cc.o\u001b[0m\n",
            "[ 65%] \u001b[32mBuilding CXX object UnitTest/CMakeFiles/InterpolationTest.dir/__/VMD.cc.o\u001b[0m\n",
            "[ 70%] \u001b[32m\u001b[1mLinking CXX executable InterpolationTest\u001b[0m\n",
            "[ 70%] Built target InterpolationTest\n",
            "[ 75%] \u001b[32mBuilding CXX object UnitTest/CMakeFiles/FpsChangerTest.dir/FpsChangerTest.cc.o\u001b[0m\n",
            "[ 80%] \u001b[32mBuilding CXX object UnitTest/CMakeFiles/FpsChangerTest.dir/__/fpschanger.cc.o\u001b[0m\n",
            "[ 85%] \u001b[32mBuilding CXX object UnitTest/CMakeFiles/FpsChangerTest.dir/__/interpolate.cc.o\u001b[0m\n",
            "[ 90%] \u001b[32mBuilding CXX object UnitTest/CMakeFiles/FpsChangerTest.dir/__/MMDFileIOUtil.cc.o\u001b[0m\n",
            "[ 95%] \u001b[32mBuilding CXX object UnitTest/CMakeFiles/FpsChangerTest.dir/__/VMD.cc.o\u001b[0m\n",
            "[100%] \u001b[32m\u001b[1mLinking CXX executable FpsChangerTest\u001b[0m\n",
            "[100%] Built target FpsChangerTest\n"
          ]
        }
      ]
    },
    {
      "cell_type": "code",
      "source": [
        "!/content/smoothvmd/build/smoothvmd"
      ],
      "metadata": {
        "colab": {
          "base_uri": "https://localhost:8080/"
        },
        "id": "Rtvm7zJ-lual",
        "outputId": "09430e8e-ae1b-42df-fb86-2af29ab4b68b"
      },
      "execution_count": 6,
      "outputs": [
        {
          "output_type": "stream",
          "name": "stdout",
          "text": [
            "usage: /content/smoothvmd/build/smoothvmd [options] input.vmd output.vmd\n",
            "options:\n",
            "  --help                help message\n",
            "  --cutoff arg          cutoff frequency [Hz]\n",
            "  --th_pos arg          threshold(position) for keyframe reduction\n",
            "  --th_rot arg          threshold(rotation) for keyframe reduction [degree]\n",
            "  --th_morph arg        threshold(morph) for keyframe reduction\n",
            "  --fps_in arg          frame rate of input-file\n",
            "  --fps_out arg         frame rate of input-file\n",
            "  --bezier              bezier curve interpolation\n",
            "\n"
          ]
        }
      ]
    },
    {
      "cell_type": "code",
      "source": [
        "%cd /content\n",
        "!wget https://raw.githubusercontent.com/wayne931121/VMD-Lifting/refs/heads/master/applications/example_output/posfilesmoothlevels27.vmd -O a.vmd"
      ],
      "metadata": {
        "colab": {
          "base_uri": "https://localhost:8080/"
        },
        "id": "btw49XAnlubb",
        "outputId": "9df84649-e89e-48f4-9fc6-441afd993b25"
      },
      "execution_count": 7,
      "outputs": [
        {
          "output_type": "stream",
          "name": "stdout",
          "text": [
            "/content\n",
            "--2025-10-16 10:50:17--  https://raw.githubusercontent.com/wayne931121/VMD-Lifting/refs/heads/master/applications/example_output/posfilesmoothlevels27.vmd\n",
            "Resolving raw.githubusercontent.com (raw.githubusercontent.com)... 185.199.108.133, 185.199.109.133, 185.199.110.133, ...\n",
            "Connecting to raw.githubusercontent.com (raw.githubusercontent.com)|185.199.108.133|:443... connected.\n",
            "HTTP request sent, awaiting response... 200 OK\n",
            "Length: 1898267 (1.8M) [application/octet-stream]\n",
            "Saving to: ‘a.vmd’\n",
            "\n",
            "a.vmd               100%[===================>]   1.81M  --.-KB/s    in 0.06s   \n",
            "\n",
            "2025-10-16 10:50:17 (29.7 MB/s) - ‘a.vmd’ saved [1898267/1898267]\n",
            "\n"
          ]
        }
      ]
    },
    {
      "cell_type": "code",
      "source": [
        "!/content/smoothvmd/build/smoothvmd a.vmd b.vmd"
      ],
      "metadata": {
        "colab": {
          "base_uri": "https://localhost:8080/"
        },
        "id": "-JQ0WHskmVPm",
        "outputId": "ffc3fe08-790f-4846-d1cb-5c8e98ece19e"
      },
      "execution_count": 8,
      "outputs": [
        {
          "output_type": "stream",
          "name": "stdout",
          "text": [
            "input file: a.vmd\n",
            "output file: b.vmd\n",
            "cutoff:5\n",
            "threshold(position): 0.5\n",
            "threshold(rotation): 3\n",
            "threshold(morph): 0.1\n",
            "fps_in: 30\n",
            "fps_out: 30\n",
            "version:Vocaloid Motion Data 0002\n",
            "modelname:Dummy Model Name    \f�_~\n",
            "frame_num: 17100\n",
            "morph_num: 0\n",
            "camera_num:0\n",
            "show_ik_num1\n",
            "input end\n",
            "vmd.frame.size(original): 17100\n",
            "vmd.frame.size(reduced): 8594\n",
            "vmd.morph.size(original): 0\n",
            "vmd.morph.size(reduced) : 0\n"
          ]
        }
      ]
    },
    {
      "cell_type": "code",
      "source": [
        "!/content/smoothvmd/build/smoothvmd b.vmd c.vmd"
      ],
      "metadata": {
        "colab": {
          "base_uri": "https://localhost:8080/"
        },
        "id": "3Pk5nv4Vmr8h",
        "outputId": "4efc731d-a5b0-4f00-81f1-6cbf55fd15db"
      },
      "execution_count": 9,
      "outputs": [
        {
          "output_type": "stream",
          "name": "stdout",
          "text": [
            "input file: b.vmd\n",
            "output file: c.vmd\n",
            "cutoff:5\n",
            "threshold(position): 0.5\n",
            "threshold(rotation): 3\n",
            "threshold(morph): 0.1\n",
            "fps_in: 30\n",
            "fps_out: 30\n",
            "version:Vocaloid Motion Data 0002\n",
            "modelname:Dummy Model Name    \n",
            "frame_num: 8594\n",
            "morph_num: 0\n",
            "camera_num:0\n",
            "show_ik_num1\n",
            "input end\n",
            "vmd.frame.size(original): 8594\n",
            "vmd.frame.size(reduced): 8275\n",
            "vmd.morph.size(original): 0\n",
            "vmd.morph.size(reduced) : 0\n"
          ]
        }
      ]
    },
    {
      "cell_type": "code",
      "source": [
        "!/content/smoothvmd/build/smoothvmd --bezier a.vmd br.vmd"
      ],
      "metadata": {
        "colab": {
          "base_uri": "https://localhost:8080/"
        },
        "id": "7EZaUK59m_pR",
        "outputId": "7da09bf3-7a0c-42fb-eb5b-fc48f9b4a7d5"
      },
      "execution_count": 10,
      "outputs": [
        {
          "output_type": "stream",
          "name": "stdout",
          "text": [
            "input file: a.vmd\n",
            "output file: br.vmd\n",
            "cutoff:5\n",
            "threshold(position): 0.5\n",
            "threshold(rotation): 3\n",
            "threshold(morph): 0.1\n",
            "fps_in: 30\n",
            "fps_out: 30\n",
            "version:Vocaloid Motion Data 0002\n",
            "modelname:Dummy Model Name    \n",
            "frame_num: 17100\n",
            "morph_num: 0\n",
            "camera_num:0\n",
            "show_ik_num1\n",
            "input end\n",
            "vmd.frame.size(original): 17100\n",
            "vmd.frame.size(reduced): 7788\n",
            "vmd.morph.size(original): 0\n",
            "vmd.morph.size(reduced) : 0\n"
          ]
        }
      ]
    },
    {
      "cell_type": "code",
      "source": [
        "!/content/smoothvmd/build/UnitTest/InterpolationTest"
      ],
      "metadata": {
        "colab": {
          "base_uri": "https://localhost:8080/"
        },
        "id": "OxUumXQ7oLPC",
        "outputId": "15a1e338-28ec-4d7b-c0c5-19049960d91a"
      },
      "execution_count": 11,
      "outputs": [
        {
          "output_type": "stream",
          "name": "stdout",
          "text": [
            "Running main() from ./googletest/src/gtest_main.cc\n",
            "\u001b[0;32m[==========] \u001b[mRunning 1 test from 1 test suite.\n",
            "\u001b[0;32m[----------] \u001b[mGlobal test environment set-up.\n",
            "\u001b[0;32m[----------] \u001b[m1 test from InterpolationTest\n",
            "\u001b[0;32m[ RUN      ] \u001b[mInterpolationTest.BezierCurveFitting\n",
            "\u001b[0;32m[       OK ] \u001b[mInterpolationTest.BezierCurveFitting (4 ms)\n",
            "\u001b[0;32m[----------] \u001b[m1 test from InterpolationTest (4 ms total)\n",
            "\n",
            "\u001b[0;32m[----------] \u001b[mGlobal test environment tear-down\n",
            "\u001b[0;32m[==========] \u001b[m1 test from 1 test suite ran. (4 ms total)\n",
            "\u001b[0;32m[  PASSED  ] \u001b[m1 test.\n"
          ]
        }
      ]
    },
    {
      "cell_type": "code",
      "source": [
        "!/content/smoothvmd/build/UnitTest/FpsChangerTest"
      ],
      "metadata": {
        "colab": {
          "base_uri": "https://localhost:8080/"
        },
        "id": "ybpdjfYsoPey",
        "outputId": "a9b1dcb8-f388-4ed1-b1c2-4663ef87f698"
      },
      "execution_count": 12,
      "outputs": [
        {
          "output_type": "stream",
          "name": "stdout",
          "text": [
            "Running main() from ./googletest/src/gtest_main.cc\n",
            "\u001b[0;32m[==========] \u001b[mRunning 4 tests from 1 test suite.\n",
            "\u001b[0;32m[----------] \u001b[mGlobal test environment set-up.\n",
            "\u001b[0;32m[----------] \u001b[m4 tests from FpsChangerTest\n",
            "\u001b[0;32m[ RUN      ] \u001b[mFpsChangerTest.Bone_Up_Down\n",
            "\u001b[0;32m[       OK ] \u001b[mFpsChangerTest.Bone_Up_Down (7 ms)\n",
            "\u001b[0;32m[ RUN      ] \u001b[mFpsChangerTest.Bone_Down_Up\n",
            "\u001b[0;32m[       OK ] \u001b[mFpsChangerTest.Bone_Down_Up (1 ms)\n",
            "\u001b[0;32m[ RUN      ] \u001b[mFpsChangerTest.Morph_Up_Down\n",
            "\u001b[0;32m[       OK ] \u001b[mFpsChangerTest.Morph_Up_Down (0 ms)\n",
            "\u001b[0;32m[ RUN      ] \u001b[mFpsChangerTest.Morph_Down_Up\n",
            "\u001b[0;32m[       OK ] \u001b[mFpsChangerTest.Morph_Down_Up (0 ms)\n",
            "\u001b[0;32m[----------] \u001b[m4 tests from FpsChangerTest (10 ms total)\n",
            "\n",
            "\u001b[0;32m[----------] \u001b[mGlobal test environment tear-down\n",
            "\u001b[0;32m[==========] \u001b[m4 tests from 1 test suite ran. (10 ms total)\n",
            "\u001b[0;32m[  PASSED  ] \u001b[m4 tests.\n"
          ]
        }
      ]
    }
  ]
}
